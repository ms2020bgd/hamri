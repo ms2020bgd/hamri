{
 "cells": [
  {
   "cell_type": "code",
   "execution_count": 11,
   "metadata": {},
   "outputs": [],
   "source": [
    "import pandas as pd\n",
    "from bs4 import BeautifulSoup\n",
    "import requests\n",
    "from multiprocessing import Pool\n",
    "products = pd.read_csv(\n",
    "    'products.csv',\n",
    "    sep=';'\n",
    ")"
   ]
  },
  {
   "cell_type": "code",
   "execution_count": 12,
   "metadata": {},
   "outputs": [],
   "source": [
    "#create a dictionnary of exchange rate, base currency = Eur\n",
    "url_currency_euro_rate= 'https://api.exchangerate-api.com/v4/latest/EUR'\n",
    "res2= requests.get(url_currency_euro_rate)\n",
    "currencies_to_eur = res2.json()['rates']"
   ]
  },
  {
   "cell_type": "code",
   "execution_count": 13,
   "metadata": {},
   "outputs": [],
   "source": [
    "restcountries_data = requests.get('https://restcountries.eu/rest/v2/all').json()"
   ]
  },
  {
   "cell_type": "code",
   "execution_count": 14,
   "metadata": {},
   "outputs": [],
   "source": [
    "countrycode_to_currency = {\n",
    "    country['alpha2Code']: country['currencies'][0]['code']\n",
    "    for country in restcountries_data\n",
    "}\n",
    "\n",
    "countrycode_to_currency = {}\n",
    "for country in restcountries_data:\n",
    "    country_code = country['alpha2Code']\n",
    "    currency = country['currencies'][0]['code']\n",
    "    countrycode_to_currency[country_code] = currency"
   ]
  },
  {
   "cell_type": "code",
   "execution_count": 15,
   "metadata": {},
   "outputs": [],
   "source": [
    "def ip_to_countrycode(ip):\n",
    "    url = f'http://api.ipstack.com/{ip}'\n",
    "    IPSTACK_KEY = 'd305c0652f17a34f0bfdf555f5b42cfe'\n",
    "    data = requests.get(url, params={'access_key': IPSTACK_KEY}).json()\n",
    "    return data['country_code']"
   ]
  },
  {
   "cell_type": "code",
   "execution_count": null,
   "metadata": {},
   "outputs": [],
   "source": [
    "ip_ok = products.ip_address.str.contains(\n",
    "    '^(([0-9]|[1-9][0-9]|1[0-9]{2}|2[0-4][0-9]|25[0-5])\\.){3}([0-9]|[1-9][0-9]|1[0-9]{2}|2[0-4][0-9]|25[0-5])$'\n",
    ")\n",
    "\n",
    "codes = [ip_to_countrycode(ip) for ip in products[ip_ok].ip_address]\n",
    "products.loc[ip_ok, 'country_code'] = codes"
   ]
  }
 ],
 "metadata": {
  "kernelspec": {
   "display_name": "Python 3",
   "language": "python",
   "name": "python3"
  },
  "language_info": {
   "codemirror_mode": {
    "name": "ipython",
    "version": 3
   },
   "file_extension": ".py",
   "mimetype": "text/x-python",
   "name": "python",
   "nbconvert_exporter": "python",
   "pygments_lexer": "ipython3",
   "version": "3.7.4"
  }
 },
 "nbformat": 4,
 "nbformat_minor": 4
}
