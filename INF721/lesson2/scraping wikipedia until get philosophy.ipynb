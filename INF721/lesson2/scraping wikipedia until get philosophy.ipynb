{
 "cells": [
  {
   "cell_type": "code",
   "execution_count": 21,
   "metadata": {},
   "outputs": [
    {
     "name": "stdout",
     "output_type": "stream",
     "text": [
      "['https://en.wikipedia.org/wiki/France', 'https://en.wikipedia.org/#cite_note-5']\n",
      "['https://en.wikipedia.org/wiki/France', 'https://en.wikipedia.org/#cite_note-5', 'https://en.wikipedia.org/#cite_note-5']\n",
      "it is a loop\n",
      "distance = 3\n"
     ]
    }
   ],
   "source": [
    "import requests\n",
    "import urllib\n",
    "\n",
    "from bs4 import BeautifulSoup\n",
    "\n",
    "first_link = None\n",
    "first_url = \"https://en.wikipedia.org/wiki/France\"\n",
    "last_url = \"https://en.wikipedia.org/wiki/Philosophy\"\n",
    "\n",
    "soup = BeautifulSoup(requests.get(url).text)\n",
    "\n",
    "def get_link(link):\n",
    "\n",
    "    para_= soup.findAll(\"p\")\n",
    "    #print(para_)\n",
    "    for x in para_:\n",
    "        if x.find(\"a\"):\n",
    "            link = x.find(\"a\").get('href')\n",
    "            break\n",
    "  \n",
    "    if type(link)==str:\n",
    "        link = urllib.parse.urljoin('https://en.wikipedia.org/',link)\n",
    "        return link\n",
    "\n",
    "def next_link(list_url, last_url):\n",
    "    Max=30\n",
    "    if list_url[-1] == last_url: \n",
    "        print(\" not found !\")\n",
    "        return False\n",
    "    elif list_url[-1] in list_url[:-1]: \n",
    "        print(\"it is a loop\")\n",
    "    elif len(list_url) > Max: \n",
    "        print(\"it is too long!\")\n",
    "        return False\n",
    "    else: \n",
    "        return True   \n",
    "\n",
    "\n",
    "list_url = []\n",
    "list_url.append(first_url)\n",
    "\n",
    "while next_link(list_url, last_url)==True:\n",
    "    link = get_link(list_url[-1])\n",
    "    if not link:\n",
    "        print(\"No link!\")\n",
    "        break\n",
    "        \n",
    "    list_url.append(link)\n",
    "    print(list_url)\n",
    "\n",
    "\n",
    "print(\"distance =\",len(list_url))"
   ]
  }
 ],
 "metadata": {
  "kernelspec": {
   "display_name": "Python 3",
   "language": "python",
   "name": "python3"
  },
  "language_info": {
   "codemirror_mode": {
    "name": "ipython",
    "version": 3
   },
   "file_extension": ".py",
   "mimetype": "text/x-python",
   "name": "python",
   "nbconvert_exporter": "python",
   "pygments_lexer": "ipython3",
   "version": "3.7.4"
  }
 },
 "nbformat": 4,
 "nbformat_minor": 2
}
