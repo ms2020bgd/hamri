{
 "cells": [
  {
   "cell_type": "code",
   "execution_count": 1,
   "metadata": {},
   "outputs": [],
   "source": [
    "from bs4 import BeautifulSoup\n",
    "import requests\n",
    "from multiprocessing import Pool\n",
    "\n",
    "GIST_URL = \"https://gist.github.com/paulmillr/2657075\"\n",
    "\n",
    "def get_soup_from_url(u):\n",
    "    return BeautifulSoup(requests.get(u).content, 'html.parser')"
   ]
  },
  {
   "cell_type": "code",
   "execution_count": 9,
   "metadata": {},
   "outputs": [],
   "source": [
    "def get_all_usernames(url):\n",
    "    soup = get_soup_from_url(url)\n",
    "    rows = soup.select('article table tbody tr')\n",
    "    usernames = [row.find('a').text for row in rows]\n",
    "    return usernames"
   ]
  },
  {
   "cell_type": "code",
   "execution_count": 10,
   "metadata": {},
   "outputs": [],
   "source": [
    "def get_user_mean_stars(username):\n",
    "    print(f'Retrieving infos for user {username}...')\n",
    "    url = f'https://api.github.com/users/{username}/repos'\n",
    "    headers = {'Authorization': 'token XXXXXXXXXXXXX'}\n",
    "    resp = requests.get(url, headers=headers)\n",
    "    if resp.status_code != 200:\n",
    "        print('oops')\n",
    "        print(resp.content)\n",
    "    repos = resp.json()\n",
    "    nb_repos = len(repos)\n",
    "    if nb_repos == 0:\n",
    "        return 0\n",
    "    total_stars = sum(repo['stargazers_count'] for repo in repos)\n",
    "    return total_stars / nb_repos"
   ]
  },
  {
   "cell_type": "code",
   "execution_count": 11,
   "metadata": {},
   "outputs": [],
   "source": [
    "def get_user_infos(username):\n",
    "    return {\n",
    "        'name': username,\n",
    "        'mean_stars': get_user_mean_stars(username),\n",
    "    }\n",
    "\n",
    "def top_users():\n",
    "    all_usernames = get_all_usernames(GIST_URL)\n",
    "    scores = [get_user_infos(u) for u in all_usernames]\n",
    "    return scores"
   ]
  },
  {
   "cell_type": "code",
   "execution_count": null,
   "metadata": {},
   "outputs": [],
   "source": [
    "\n"
   ]
  },
  {
   "cell_type": "code",
   "execution_count": null,
   "metadata": {},
   "outputs": [],
   "source": [
    "\n"
   ]
  },
  {
   "cell_type": "code",
   "execution_count": null,
   "metadata": {},
   "outputs": [],
   "source": []
  }
 ],
 "metadata": {
  "kernelspec": {
   "display_name": "Python 3",
   "language": "python",
   "name": "python3"
  },
  "language_info": {
   "codemirror_mode": {
    "name": "ipython",
    "version": 3
   },
   "file_extension": ".py",
   "mimetype": "text/x-python",
   "name": "python",
   "nbconvert_exporter": "python",
   "pygments_lexer": "ipython3",
   "version": "3.7.4"
  }
 },
 "nbformat": 4,
 "nbformat_minor": 4
}
